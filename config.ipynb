{
 "cells": [
  {
   "cell_type": "code",
   "execution_count": 53,
   "id": "initial_id",
   "metadata": {
    "collapsed": true,
    "ExecuteTime": {
     "end_time": "2024-01-25T10:06:06.492926753Z",
     "start_time": "2024-01-25T10:06:06.434948435Z"
    }
   },
   "outputs": [],
   "source": [
    "import pickle\n",
    "from revolve2.modular_robot import ModularRobot\n",
    "from revolve2.modular_robot.brain.cpg import BrainCpgNetworkStatic\n",
    "from revolve2.modular_robot.brain.cpg import BrainCpgNSEnvironmentalControl\n",
    "from revolve2.modular_robot.brain.cpg._make_cpg_network_structure_neighbor import (\n",
    "    active_hinges_to_cpg_network_structure_neighbor,\n",
    ")\n",
    "from revolve2.modular_robot_physical import Config\n",
    "\n",
    "import numpy as np\n",
    "from revolve2.modular_robot.body.v1 import *\n",
    "from revolve2.modular_robot.body import RightAngles\n",
    "from revolve2.modular_robot.body.base import ActiveHinge\n",
    "from revolve2.modular_robot_physical import UUIDKey\n",
    "import math"
   ]
  },
  {
   "cell_type": "code",
   "execution_count": null,
   "outputs": [],
   "source": [
    "darwinism_conf.pickle"
   ],
   "metadata": {
    "collapsed": false
   }
  },
  {
   "cell_type": "code",
   "outputs": [],
   "source": [
    "CONTROL_FREQUENCY = 30 # 20\n",
    "RUN_DURATION = 120"
   ],
   "metadata": {
    "collapsed": false,
    "ExecuteTime": {
     "end_time": "2024-01-25T10:06:06.606186888Z",
     "start_time": "2024-01-25T10:06:06.563862095Z"
    }
   },
   "id": "de1b51cf34e36bbd",
   "execution_count": 54
  },
  {
   "cell_type": "code",
   "outputs": [],
   "source": [
    "def darwinism() -> tuple[BodyV1, list[ActiveHingeV1]]:\n",
    "    body = BodyV1()\n",
    "    h1 = body.core_v1.front = ActiveHingeV1(RightAngles.DEG_90)\n",
    "    h2 = body.core_v1.front.attachment = ActiveHingeV1(RightAngles.DEG_270)\n",
    "    h3 = body.core_v1.front.attachment.attachment = ActiveHingeV1(RightAngles.DEG_0)\n",
    "\n",
    "    h4 = body.core_v1.right = ActiveHingeV1(RightAngles.DEG_90)\n",
    "    h5 = body.core_v1.right.attachment = ActiveHingeV1(RightAngles.DEG_270)\n",
    "    h6 = body.core_v1.right.attachment.attachment = ActiveHingeV1(RightAngles.DEG_0)\n",
    "\n",
    "    h7 = body.core_v1.back = ActiveHingeV1(RightAngles.DEG_90)\n",
    "    h8 = body.core_v1.back.attachment = ActiveHingeV1(RightAngles.DEG_270)\n",
    "    h9 = body.core_v1.back.attachment.attachment = ActiveHingeV1(RightAngles.DEG_0)\n",
    "    hinges = [h1,h2,h3,h4,h5,h6,h7,h8,h9]\n",
    "    return body, hinges\n",
    "\n",
    "\n",
    "def lamarckism() -> tuple[BodyV1, list[ActiveHingeV1]]:\n",
    "    body = BodyV1()\n",
    "    h1 = body.core_v1.front = ActiveHingeV1(RightAngles.DEG_0)\n",
    "    h2 = body.core_v1.front.attachment = ActiveHingeV1(RightAngles.DEG_0)\n",
    "    h3 = body.core_v1.front.attachment.attachment = ActiveHingeV1(RightAngles.DEG_0)\n",
    "    \n",
    "    h4 = body.core_v1.right = ActiveHingeV1(RightAngles.DEG_90)\n",
    "    h5 = body.core_v1.right.attachment = ActiveHingeV1(RightAngles.DEG_270)\n",
    "    \n",
    "\n",
    "    h6 = body.core_v1.back = ActiveHingeV1(RightAngles.DEG_90)\n",
    "    h7 = body.core_v1.back.attachment = ActiveHingeV1(RightAngles.DEG_270)\n",
    "\n",
    "    h8 = body.core_v1.left = ActiveHingeV1(RightAngles.DEG_90)\n",
    "    h9 = body.core_v1.left.attachment = ActiveHingeV1(RightAngles.DEG_270)\n",
    "    \n",
    "    hinges =  [h1,h2,h3,h4,h5,h6,h7,h8,h9]\n",
    "    return body, hinges"
   ],
   "metadata": {
    "collapsed": false,
    "ExecuteTime": {
     "end_time": "2024-01-25T10:06:06.774083786Z",
     "start_time": "2024-01-25T10:06:06.731484586Z"
    }
   },
   "id": "2e61781fa09c0856",
   "execution_count": 55
  },
  {
   "cell_type": "markdown",
   "source": [
    "## Configure Darwinism\n"
   ],
   "metadata": {
    "collapsed": false
   },
   "id": "7417dacee2f96a7"
  },
  {
   "cell_type": "code",
   "outputs": [],
   "source": [
    "with open(\"brains_pickle/darw_brain.pickle\", \"rb\") as f:\n",
    "    brain_params = pickle.load(f)"
   ],
   "metadata": {
    "collapsed": false,
    "ExecuteTime": {
     "end_time": "2024-01-25T10:06:07.421993017Z",
     "start_time": "2024-01-25T10:06:07.419313347Z"
    }
   },
   "id": "c4b8fd489d1b6e91",
   "execution_count": 56
  },
  {
   "cell_type": "code",
   "outputs": [],
   "source": [
    "body, hinges = darwinism()\n",
    "pins = [11,7,6,13,10,25,17,27,23]\n",
    "\n",
    "hinge_mapping = {UUIDKey(hinge): pin for hinge, pin in zip(hinges, pins)}\n",
    "initial_hinge_positions = {UUIDKey(hinge): 0.0 for hinge in hinges}\n",
    "inverse_servos = {13:True}\n",
    "\n",
    "initial_state, _, weight_matrix, _ = brain_params\n",
    "\n",
    "weight_matrix = weight_matrix / np.max(np.abs(weight_matrix))\n",
    "(\n",
    "    cpg_network_structure,\n",
    "    output_mapping,\n",
    ") = active_hinges_to_cpg_network_structure_neighbor(hinges)\n",
    "# initial_state = cpg_network_structure.make_uniform_state(0.5 * math.sqrt(2))\n",
    "\n",
    "brain = BrainCpgNetworkStatic(\n",
    "    initial_state=initial_state,\n",
    "    weight_matrix=weight_matrix,\n",
    "    output_mapping=output_mapping,\n",
    ")\n",
    "\n",
    "robot = ModularRobot(body=body, brain=brain)"
   ],
   "metadata": {
    "collapsed": false,
    "ExecuteTime": {
     "end_time": "2024-01-25T10:06:07.745707414Z",
     "start_time": "2024-01-25T10:06:07.736295952Z"
    }
   },
   "id": "5e1c9d820f8e81eb",
   "execution_count": 57
  },
  {
   "cell_type": "code",
   "outputs": [],
   "source": [
    "config = Config(\n",
    "    modular_robot=robot,\n",
    "    hinge_mapping=hinge_mapping,\n",
    "    initial_hinge_positions=initial_hinge_positions,\n",
    "    run_duration=RUN_DURATION,\n",
    "    control_frequency=CONTROL_FREQUENCY,\n",
    "    inverse_servos=inverse_servos,\n",
    ")\n",
    "\n",
    "with open(\"darwinism_conf.pickle\", \"wb\") as f:\n",
    "    pickle.dump(config, f)"
   ],
   "metadata": {
    "collapsed": false,
    "ExecuteTime": {
     "end_time": "2024-01-25T10:06:09.768862940Z",
     "start_time": "2024-01-25T10:06:09.747367960Z"
    }
   },
   "id": "392173e6bf46b301",
   "execution_count": 58
  },
  {
   "cell_type": "markdown",
   "source": [
    "## Configure Lamarcism"
   ],
   "metadata": {
    "collapsed": false
   },
   "id": "bb66b0cf247b6559"
  },
  {
   "cell_type": "code",
   "outputs": [],
   "source": [
    "with open(\"brains_pickle/lamarc_brain.pickle\", \"rb\") as f:\n",
    "    brain_params = pickle.load(f)"
   ],
   "metadata": {
    "collapsed": false,
    "ExecuteTime": {
     "end_time": "2024-01-25T09:24:08.568925177Z",
     "start_time": "2024-01-25T09:24:08.524961839Z"
    }
   },
   "id": "1b19bbd488761b7b",
   "execution_count": 44
  },
  {
   "cell_type": "code",
   "outputs": [],
   "source": [
    "body, hinges = lamarckism()\n",
    "pins = [17, 27, 23, 6, 13, 11, 7, 10, 25] \n",
    "\n",
    "hinge_mapping = {UUIDKey(hinge): pin for hinge, pin in zip(hinges, pins)}\n",
    "initial_hinge_positions = {UUIDKey(hinge): 0.0 for hinge in hinges}\n",
    "\n",
    "# [6,13,10,11,9] pid: True for pid in [17, 27, 23, 10, 25, 11, 7, 6, 13]\n",
    "inverse_servos = {pid: True for pid in [27, 23, 11, 7,13]}\n",
    "\n",
    "initial_state, _, weight_matrix, _ = brain_params\n",
    "\n",
    "weight_matrix = weight_matrix / np.max(np.abs(weight_matrix))\n",
    "(\n",
    "    cpg_network_structure,\n",
    "    output_mapping,\n",
    ") = active_hinges_to_cpg_network_structure_neighbor(hinges)\n",
    "#initial_state = cpg_network_structure.make_uniform_state(0.5 * math.sqrt(2))\n",
    "\n",
    "brain = BrainCpgNetworkStatic(\n",
    "    initial_state=initial_state,\n",
    "    weight_matrix=weight_matrix,\n",
    "    output_mapping=output_mapping,\n",
    ")\n",
    "\n",
    "robot = ModularRobot(body=body, brain=brain)"
   ],
   "metadata": {
    "collapsed": false,
    "ExecuteTime": {
     "end_time": "2024-01-25T09:24:08.684557122Z",
     "start_time": "2024-01-25T09:24:08.679615922Z"
    }
   },
   "id": "ad3c368ebc75ce2",
   "execution_count": 45
  },
  {
   "cell_type": "code",
   "outputs": [],
   "source": [
    "config = Config(\n",
    "    modular_robot=robot,\n",
    "    hinge_mapping=hinge_mapping,\n",
    "    initial_hinge_positions=initial_hinge_positions,\n",
    "    run_duration=RUN_DURATION,\n",
    "    control_frequency=CONTROL_FREQUENCY,\n",
    "    inverse_servos=inverse_servos,\n",
    ")\n",
    "\n",
    "with open(\"lamarckism_conf.pickle\", \"wb\") as f:\n",
    "    pickle.dump(config, f)"
   ],
   "metadata": {
    "collapsed": false,
    "ExecuteTime": {
     "end_time": "2024-01-25T09:24:08.979060544Z",
     "start_time": "2024-01-25T09:24:08.973566200Z"
    }
   },
   "id": "4aa89f0bd8a7e9a4",
   "execution_count": 46
  },
  {
   "cell_type": "code",
   "outputs": [],
   "source": [],
   "metadata": {
    "collapsed": false
   },
   "id": "5ca011987d40fdd3"
  }
 ],
 "metadata": {
  "kernelspec": {
   "display_name": "Python 3",
   "language": "python",
   "name": "python3"
  },
  "language_info": {
   "codemirror_mode": {
    "name": "ipython",
    "version": 2
   },
   "file_extension": ".py",
   "mimetype": "text/x-python",
   "name": "python",
   "nbconvert_exporter": "python",
   "pygments_lexer": "ipython2",
   "version": "2.7.6"
  }
 },
 "nbformat": 4,
 "nbformat_minor": 5
}
